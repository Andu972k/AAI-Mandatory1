{
 "cells": [
  {
   "cell_type": "code",
   "execution_count": 1,
   "id": "74ab9ad2",
   "metadata": {},
   "outputs": [],
   "source": [
    "import numpy as np\n",
    "import pandas as pd\n",
    "import matplotlib.pyplot as plt"
   ]
  },
  {
   "cell_type": "code",
   "execution_count": 2,
   "id": "6f6456f5",
   "metadata": {},
   "outputs": [],
   "source": [
    "df = pd.read_csv('../Dataset/Haircut Tip Amounts Clean English.csv')"
   ]
  },
  {
   "cell_type": "code",
   "execution_count": 3,
   "id": "f89556e0",
   "metadata": {
    "scrolled": true
   },
   "outputs": [
    {
     "name": "stdout",
     "output_type": "stream",
     "text": [
      "     Tip Amount  Time  Day Culture Married  Age\n",
      "0           0.0     5  Fri       I      NM   30\n",
      "1           1.0     2  Tue       E      NM   10\n",
      "2           1.0     7  Tue       I      NM   35\n",
      "3           2.0     5  Mon       I      NM   35\n",
      "4           2.0    12  Fri       M      NM   15\n",
      "..          ...   ...  ...     ...     ...  ...\n",
      "227        10.0     1  Sat       W       M   40\n",
      "228         1.0    13  Sat       I      NM   10\n",
      "229         5.0    14  Sat       W       M   36\n",
      "230         3.0    15  Sat       W      NM    8\n",
      "231         5.0    16  Fri       I      NM   35\n",
      "\n",
      "[232 rows x 6 columns]\n"
     ]
    }
   ],
   "source": [
    "#Convert Tip amount column to float\n",
    "df['Tip Amount'] = pd.to_numeric(df['Tip Amount'], downcast='float')\n",
    "print(df)"
   ]
  },
  {
   "cell_type": "code",
   "execution_count": 4,
   "id": "09b60003",
   "metadata": {},
   "outputs": [],
   "source": [
    "#Define subset of df based on culture\n",
    "\n",
    "#Indian\n",
    "dfi = df.loc[df['Culture'] == 'I']\n",
    "#European\n",
    "dfe = df.loc[df['Culture'] == 'E']\n",
    "#African American\n",
    "dfb = df.loc[df['Culture'] == 'B']\n",
    "#American\n",
    "dfw = df.loc[df['Culture'] == 'W']\n",
    "#Phillipino\n",
    "dfp = df.loc[df['Culture'] == 'P']\n",
    "#Middle Eastern\n",
    "dfm = df.loc[df['Culture'] == 'M']\n",
    "#Asian\n",
    "dfa = df.loc[df['Culture'] == 'A']"
   ]
  },
  {
   "cell_type": "code",
   "execution_count": 5,
   "id": "668be97c",
   "metadata": {},
   "outputs": [
    {
     "name": "stdout",
     "output_type": "stream",
     "text": [
      "Indian: 5.012820720672607\n",
      "European: 3.9375\n",
      "African American: 8.625\n",
      "American: 6.657480239868164\n",
      "Phillipino: 15.857142448425293\n",
      "Middle Eastern: 5.159999847412109\n",
      "Asian: 5.07692289352417\n"
     ]
    }
   ],
   "source": [
    "#Calculate mean for each culture\n",
    "indianMean = dfi['Tip Amount'].mean()\n",
    "europeanMean = dfe['Tip Amount'].mean()\n",
    "africanAmericanMean = dfb['Tip Amount'].mean()\n",
    "americanMean = dfw['Tip Amount'].mean()\n",
    "phillipinoMean = dfp['Tip Amount'].mean()\n",
    "middleEasternMean = dfm['Tip Amount'].mean()\n",
    "asianMean = dfa['Tip Amount'].mean()\n",
    "\n",
    "print(f'Indian: {indianMean}')\n",
    "print(f'European: {europeanMean}')\n",
    "print(f'African American: {africanAmericanMean}')\n",
    "print(f'American: {americanMean}')\n",
    "print(f'Phillipino: {phillipinoMean}')\n",
    "print(f'Middle Eastern: {middleEasternMean}')\n",
    "print(f'Asian: {asianMean}')"
   ]
  },
  {
   "cell_type": "code",
   "execution_count": 6,
   "id": "9a2c95a4",
   "metadata": {},
   "outputs": [
    {
     "data": {
      "text/plain": [
       "Text(0.5, 0, 'Average tip amount')"
      ]
     },
     "execution_count": 6,
     "metadata": {},
     "output_type": "execute_result"
    },
    {
     "data": {
      "image/png": "[encoded data removed]",
      "text/plain": [
       "<Figure size 432x288 with 1 Axes>"
      ]
     },
     "metadata": {
      "needs_background": "light"
     },
     "output_type": "display_data"
    }
   ],
   "source": [
    "#Horizontal bar chart\n",
    "plt.barh(['Indian'], [indianMean])\n",
    "plt.barh(['European'], [europeanMean])\n",
    "plt.barh(['African American'], [africanAmericanMean])\n",
    "plt.barh(['American'], [americanMean])\n",
    "plt.barh(['Phillipino'], [phillipinoMean])\n",
    "plt.barh(['Middle Eastern'], [middleEasternMean])\n",
    "plt.barh(['Asian'], [asianMean])\n",
    "\n",
    "plt.xlabel('Average tip amount')"
   ]
  },
  {
   "cell_type": "code",
   "execution_count": 7,
   "id": "c3311fe0",
   "metadata": {},
   "outputs": [
    {
     "data": {
      "text/plain": [
       "(array([1, 2, 3, 4, 5, 6, 7]),\n",
       " [Text(1, 0, 'Indian'),\n",
       "  Text(2, 0, 'European'),\n",
       "  Text(3, 0, 'African American'),\n",
       "  Text(4, 0, 'American'),\n",
       "  Text(5, 0, 'Phillipino'),\n",
       "  Text(6, 0, 'Middle Eastern'),\n",
       "  Text(7, 0, 'Asian')])"
      ]
     },
     "execution_count": 7,
     "metadata": {},
     "output_type": "execute_result"
    },
    {
     "data": {
      "image/png": "[encoded data removed]",
      "text/plain": [
       "<Figure size 432x288 with 1 Axes>"
      ]
     },
     "metadata": {
      "needs_background": "light"
     },
     "output_type": "display_data"
    }
   ],
   "source": [
    "#Multiple boxplots\n",
    "box_dict = {'Indian': dfi['Tip Amount'], 'European': dfe['Tip Amount'], 'African American': dfb['Tip Amount'], 'American': dfw['Tip Amount'], 'Phillipino': dfp['Tip Amount'], 'Middle Eastern': dfm['Tip Amount'], 'Asian': dfa['Tip Amount']}\n",
    "fig, ax = plt.subplots()\n",
    "ax.boxplot(box_dict.values())\n",
    "ax.set_xticklabels(box_dict.keys())\n",
    "plt.ylabel('Tip amount')\n",
    "plt.xticks(rotation=25)"
   ]
  },
  {
   "cell_type": "code",
   "execution_count": null,
   "id": "b08339c0",
   "metadata": {},
   "outputs": [],
   "source": []
  }
 ],
 "metadata": {
  "kernelspec": {
   "display_name": "Python 3 (ipykernel)",
   "language": "python",
   "name": "python3"
  },
  "language_info": {
   "codemirror_mode": {
    "name": "ipython",
    "version": 3
   },
   "file_extension": ".py",
   "mimetype": "text/x-python",
   "name": "python",
   "nbconvert_exporter": "python",
   "pygments_lexer": "ipython3",
   "version": "3.9.7"
  }
 },
 "nbformat": 4,
 "nbformat_minor": 5
}
